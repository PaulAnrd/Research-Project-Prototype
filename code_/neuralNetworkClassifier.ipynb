{
 "cells": [
  {
   "cell_type": "code",
   "execution_count": 1,
   "metadata": {},
   "outputs": [
    {
     "name": "stdout",
     "output_type": "stream",
     "text": [
      "WARNING:tensorflow:From C:\\Users\\paula\\AppData\\Roaming\\Python\\Python311\\site-packages\\keras\\src\\losses.py:2976: The name tf.losses.sparse_softmax_cross_entropy is deprecated. Please use tf.compat.v1.losses.sparse_softmax_cross_entropy instead.\n",
      "\n"
     ]
    }
   ],
   "source": [
    "import numpy as np\n",
    "import pandas as pd\n",
    "import matplotlib.pyplot as plt\n",
    "import tensorflow as tf\n",
    "import seaborn as sns\n",
    "from sklearn.model_selection import train_test_split\n",
    "from sklearn.ensemble import RandomForestClassifier\n",
    "from sklearn.preprocessing import StandardScaler\n",
    "from tensorflow.keras.utils import to_categorical\n",
    "from sklearn.metrics import ConfusionMatrixDisplay\n",
    "from sklearn.metrics import classification_report, confusion_matrix\n",
    "from tensorflow.keras.models import Sequential\n",
    "from tensorflow.keras.layers import Dense, Dropout, BatchNormalization\n",
    "from tensorflow.keras.regularizers import l2\n",
    "from tensorflow.keras.callbacks import EarlyStopping, ReduceLROnPlateau\n"
   ]
  },
  {
   "cell_type": "code",
   "execution_count": 2,
   "metadata": {},
   "outputs": [],
   "source": [
    "file_path = '../data/data.csv'\n",
    "df = pd.read_csv(file_path, parse_dates=['Date'])\n",
    "#df = df.dropna()\n"
   ]
  },
  {
   "cell_type": "code",
   "execution_count": 3,
   "metadata": {},
   "outputs": [
    {
     "name": "stdout",
     "output_type": "stream",
     "text": [
      "high_volatility\n",
      "0    4218\n",
      "1    1151\n",
      "Name: count, dtype: int64\n"
     ]
    },
    {
     "data": {
      "text/html": [
       "<div>\n",
       "<style scoped>\n",
       "    .dataframe tbody tr th:only-of-type {\n",
       "        vertical-align: middle;\n",
       "    }\n",
       "\n",
       "    .dataframe tbody tr th {\n",
       "        vertical-align: top;\n",
       "    }\n",
       "\n",
       "    .dataframe thead th {\n",
       "        text-align: right;\n",
       "    }\n",
       "</style>\n",
       "<table border=\"1\" class=\"dataframe\">\n",
       "  <thead>\n",
       "    <tr style=\"text-align: right;\">\n",
       "      <th></th>\n",
       "      <th>Date</th>\n",
       "      <th>Inflation</th>\n",
       "      <th>CPI</th>\n",
       "      <th>Treasury_Yield</th>\n",
       "      <th>Open</th>\n",
       "      <th>High</th>\n",
       "      <th>Low</th>\n",
       "      <th>Close</th>\n",
       "      <th>SP500_Adj_Close</th>\n",
       "      <th>Volume</th>\n",
       "      <th>...</th>\n",
       "      <th>volatility_forcast</th>\n",
       "      <th>returns</th>\n",
       "      <th>EWMA_VM</th>\n",
       "      <th>GARCH_VM</th>\n",
       "      <th>EGARCH_VM</th>\n",
       "      <th>RogersSatchell_VM</th>\n",
       "      <th>garman_klass</th>\n",
       "      <th>parkinson</th>\n",
       "      <th>yang_zhang</th>\n",
       "      <th>high_volatility</th>\n",
       "    </tr>\n",
       "  </thead>\n",
       "  <tbody>\n",
       "    <tr>\n",
       "      <th>0</th>\n",
       "      <td>2003-01-03</td>\n",
       "      <td>1.62</td>\n",
       "      <td>182.6</td>\n",
       "      <td>4.05</td>\n",
       "      <td>909.03</td>\n",
       "      <td>911.25</td>\n",
       "      <td>903.07</td>\n",
       "      <td>908.59</td>\n",
       "      <td>908.59</td>\n",
       "      <td>1130800000</td>\n",
       "      <td>...</td>\n",
       "      <td>2.5512</td>\n",
       "      <td>-0.0005</td>\n",
       "      <td>0.0116</td>\n",
       "      <td>0.0002</td>\n",
       "      <td>0.0182</td>\n",
       "      <td>0.0069</td>\n",
       "      <td>0.0064</td>\n",
       "      <td>0.0054</td>\n",
       "      <td>0.0090</td>\n",
       "      <td>1</td>\n",
       "    </tr>\n",
       "    <tr>\n",
       "      <th>1</th>\n",
       "      <td>2003-01-06</td>\n",
       "      <td>1.63</td>\n",
       "      <td>182.6</td>\n",
       "      <td>4.09</td>\n",
       "      <td>908.59</td>\n",
       "      <td>931.77</td>\n",
       "      <td>908.59</td>\n",
       "      <td>929.01</td>\n",
       "      <td>929.01</td>\n",
       "      <td>1435900000</td>\n",
       "      <td>...</td>\n",
       "      <td>1.1827</td>\n",
       "      <td>0.0222</td>\n",
       "      <td>0.0112</td>\n",
       "      <td>0.0003</td>\n",
       "      <td>0.0267</td>\n",
       "      <td>0.0086</td>\n",
       "      <td>0.0112</td>\n",
       "      <td>0.0151</td>\n",
       "      <td>0.0252</td>\n",
       "      <td>0</td>\n",
       "    </tr>\n",
       "    <tr>\n",
       "      <th>2</th>\n",
       "      <td>2003-01-07</td>\n",
       "      <td>1.62</td>\n",
       "      <td>182.6</td>\n",
       "      <td>4.04</td>\n",
       "      <td>929.01</td>\n",
       "      <td>930.81</td>\n",
       "      <td>919.93</td>\n",
       "      <td>922.93</td>\n",
       "      <td>922.93</td>\n",
       "      <td>1545200000</td>\n",
       "      <td>...</td>\n",
       "      <td>1.6085</td>\n",
       "      <td>-0.0066</td>\n",
       "      <td>0.0122</td>\n",
       "      <td>0.0003</td>\n",
       "      <td>0.0376</td>\n",
       "      <td>0.0070</td>\n",
       "      <td>0.0072</td>\n",
       "      <td>0.0071</td>\n",
       "      <td>0.0118</td>\n",
       "      <td>1</td>\n",
       "    </tr>\n",
       "    <tr>\n",
       "      <th>3</th>\n",
       "      <td>2003-01-08</td>\n",
       "      <td>1.71</td>\n",
       "      <td>182.6</td>\n",
       "      <td>4.00</td>\n",
       "      <td>922.93</td>\n",
       "      <td>922.93</td>\n",
       "      <td>908.32</td>\n",
       "      <td>909.93</td>\n",
       "      <td>909.93</td>\n",
       "      <td>1467600000</td>\n",
       "      <td>...</td>\n",
       "      <td>2.0199</td>\n",
       "      <td>-0.0142</td>\n",
       "      <td>0.0119</td>\n",
       "      <td>0.0004</td>\n",
       "      <td>0.0512</td>\n",
       "      <td>0.0053</td>\n",
       "      <td>0.0070</td>\n",
       "      <td>0.0096</td>\n",
       "      <td>0.0160</td>\n",
       "      <td>1</td>\n",
       "    </tr>\n",
       "    <tr>\n",
       "      <th>4</th>\n",
       "      <td>2003-01-09</td>\n",
       "      <td>1.78</td>\n",
       "      <td>182.6</td>\n",
       "      <td>4.19</td>\n",
       "      <td>909.93</td>\n",
       "      <td>928.31</td>\n",
       "      <td>909.93</td>\n",
       "      <td>927.57</td>\n",
       "      <td>927.57</td>\n",
       "      <td>1560300000</td>\n",
       "      <td>...</td>\n",
       "      <td>1.6597</td>\n",
       "      <td>0.0192</td>\n",
       "      <td>0.0121</td>\n",
       "      <td>0.0004</td>\n",
       "      <td>0.0675</td>\n",
       "      <td>0.0040</td>\n",
       "      <td>0.0076</td>\n",
       "      <td>0.0120</td>\n",
       "      <td>0.0200</td>\n",
       "      <td>1</td>\n",
       "    </tr>\n",
       "  </tbody>\n",
       "</table>\n",
       "<p>5 rows × 25 columns</p>\n",
       "</div>"
      ],
      "text/plain": [
       "        Date  Inflation    CPI  Treasury_Yield    Open    High     Low  \\\n",
       "0 2003-01-03       1.62  182.6            4.05  909.03  911.25  903.07   \n",
       "1 2003-01-06       1.63  182.6            4.09  908.59  931.77  908.59   \n",
       "2 2003-01-07       1.62  182.6            4.04  929.01  930.81  919.93   \n",
       "3 2003-01-08       1.71  182.6            4.00  922.93  922.93  908.32   \n",
       "4 2003-01-09       1.78  182.6            4.19  909.93  928.31  909.93   \n",
       "\n",
       "    Close  SP500_Adj_Close      Volume  ...  volatility_forcast  returns  \\\n",
       "0  908.59           908.59  1130800000  ...              2.5512  -0.0005   \n",
       "1  929.01           929.01  1435900000  ...              1.1827   0.0222   \n",
       "2  922.93           922.93  1545200000  ...              1.6085  -0.0066   \n",
       "3  909.93           909.93  1467600000  ...              2.0199  -0.0142   \n",
       "4  927.57           927.57  1560300000  ...              1.6597   0.0192   \n",
       "\n",
       "   EWMA_VM  GARCH_VM  EGARCH_VM  RogersSatchell_VM  garman_klass  parkinson  \\\n",
       "0   0.0116    0.0002     0.0182             0.0069        0.0064     0.0054   \n",
       "1   0.0112    0.0003     0.0267             0.0086        0.0112     0.0151   \n",
       "2   0.0122    0.0003     0.0376             0.0070        0.0072     0.0071   \n",
       "3   0.0119    0.0004     0.0512             0.0053        0.0070     0.0096   \n",
       "4   0.0121    0.0004     0.0675             0.0040        0.0076     0.0120   \n",
       "\n",
       "   yang_zhang  high_volatility  \n",
       "0      0.0090                1  \n",
       "1      0.0252                0  \n",
       "2      0.0118                1  \n",
       "3      0.0160                1  \n",
       "4      0.0200                1  \n",
       "\n",
       "[5 rows x 25 columns]"
      ]
     },
     "execution_count": 3,
     "metadata": {},
     "output_type": "execute_result"
    }
   ],
   "source": [
    "threshold = df['volatility_forcast'].mean() * 1.3\n",
    "df['high_volatility'] = np.where(df['volatility_forcast'] > threshold, 1, 0)  # 1: High, 0: Low\n",
    "\n",
    "print(df['high_volatility'].value_counts())\n",
    "\n",
    "df.head()"
   ]
  },
  {
   "cell_type": "code",
   "execution_count": 4,
   "metadata": {},
   "outputs": [],
   "source": [
    "X = df.drop(columns=['Date', 'high_volatility','volatility_forcast'])\n",
    "y = df['high_volatility']\n",
    "\n",
    "X_train, X_test, y_train, y_test = train_test_split(X, y, test_size=0.2, random_state=42, stratify=y)\n"
   ]
  },
  {
   "cell_type": "code",
   "execution_count": 5,
   "metadata": {},
   "outputs": [],
   "source": [
    "scaler = StandardScaler()\n",
    "X_train_scaled = scaler.fit_transform(X_train)\n",
    "X_test_scaled = scaler.transform(X_test)\n"
   ]
  },
  {
   "cell_type": "code",
   "execution_count": 6,
   "metadata": {},
   "outputs": [],
   "source": [
    "y_train_encoded = to_categorical(y_train)\n",
    "y_test_encoded = to_categorical(y_test)\n"
   ]
  },
  {
   "cell_type": "code",
   "execution_count": 7,
   "metadata": {},
   "outputs": [
    {
     "name": "stdout",
     "output_type": "stream",
     "text": [
      "WARNING:tensorflow:From C:\\Users\\paula\\AppData\\Roaming\\Python\\Python311\\site-packages\\keras\\src\\backend.py:873: The name tf.get_default_graph is deprecated. Please use tf.compat.v1.get_default_graph instead.\n",
      "\n"
     ]
    }
   ],
   "source": [
    "model = Sequential([\n",
    "    Dense(512, activation='relu', input_shape=(X_train_scaled.shape[1],), kernel_regularizer=l2(0.001)),\n",
    "    BatchNormalization(),\n",
    "    Dropout(0.1),\n",
    "    Dense(256, activation='relu', kernel_regularizer=l2(0.001)),\n",
    "    BatchNormalization(),\n",
    "    Dropout(0.1),\n",
    "    Dense(128, activation='relu'),\n",
    "    Dropout(0.1),\n",
    "    Dense(2, activation='softmax')\n",
    "])"
   ]
  },
  {
   "cell_type": "code",
   "execution_count": 8,
   "metadata": {},
   "outputs": [
    {
     "name": "stdout",
     "output_type": "stream",
     "text": [
      "WARNING:tensorflow:From C:\\Users\\paula\\AppData\\Roaming\\Python\\Python311\\site-packages\\keras\\src\\optimizers\\__init__.py:309: The name tf.train.Optimizer is deprecated. Please use tf.compat.v1.train.Optimizer instead.\n",
      "\n"
     ]
    }
   ],
   "source": [
    "# Compile\n",
    "model.compile(optimizer='adam', loss='categorical_crossentropy', metrics=['accuracy'])"
   ]
  },
  {
   "cell_type": "code",
   "execution_count": 9,
   "metadata": {},
   "outputs": [],
   "source": [
    "early_stopping = EarlyStopping(monitor='val_loss', patience=15, restore_best_weights=True)\n",
    "lr_scheduler = ReduceLROnPlateau(monitor='val_loss', factor=0.5, patience=4)"
   ]
  },
  {
   "cell_type": "code",
   "execution_count": 10,
   "metadata": {},
   "outputs": [
    {
     "name": "stdout",
     "output_type": "stream",
     "text": [
      "Epoch 1/100\n",
      "WARNING:tensorflow:From C:\\Users\\paula\\AppData\\Roaming\\Python\\Python311\\site-packages\\keras\\src\\utils\\tf_utils.py:492: The name tf.ragged.RaggedTensorValue is deprecated. Please use tf.compat.v1.ragged.RaggedTensorValue instead.\n",
      "\n",
      "WARNING:tensorflow:From C:\\Users\\paula\\AppData\\Roaming\\Python\\Python311\\site-packages\\keras\\src\\engine\\base_layer_utils.py:384: The name tf.executing_eagerly_outside_functions is deprecated. Please use tf.compat.v1.executing_eagerly_outside_functions instead.\n",
      "\n",
      "135/135 [==============================] - 2s 6ms/step - loss: 0.8483 - accuracy: 0.8175 - val_loss: 0.7391 - val_accuracy: 0.8343 - lr: 0.0010\n",
      "Epoch 2/100\n",
      "135/135 [==============================] - 1s 4ms/step - loss: 0.7402 - accuracy: 0.8319 - val_loss: 0.6889 - val_accuracy: 0.8408 - lr: 0.0010\n",
      "Epoch 3/100\n",
      "135/135 [==============================] - 1s 4ms/step - loss: 0.6777 - accuracy: 0.8396 - val_loss: 0.6162 - val_accuracy: 0.8650 - lr: 0.0010\n",
      "Epoch 4/100\n",
      "135/135 [==============================] - 1s 4ms/step - loss: 0.6246 - accuracy: 0.8484 - val_loss: 0.5727 - val_accuracy: 0.8678 - lr: 0.0010\n",
      "Epoch 5/100\n",
      "135/135 [==============================] - 1s 4ms/step - loss: 0.5867 - accuracy: 0.8442 - val_loss: 0.5647 - val_accuracy: 0.8436 - lr: 0.0010\n",
      "Epoch 6/100\n",
      "135/135 [==============================] - 1s 4ms/step - loss: 0.5461 - accuracy: 0.8489 - val_loss: 0.5144 - val_accuracy: 0.8547 - lr: 0.0010\n",
      "Epoch 7/100\n",
      "135/135 [==============================] - 1s 5ms/step - loss: 0.5106 - accuracy: 0.8540 - val_loss: 0.4785 - val_accuracy: 0.8631 - lr: 0.0010\n",
      "Epoch 8/100\n",
      "135/135 [==============================] - 1s 7ms/step - loss: 0.4854 - accuracy: 0.8554 - val_loss: 0.4517 - val_accuracy: 0.8575 - lr: 0.0010\n",
      "Epoch 9/100\n",
      "135/135 [==============================] - 1s 5ms/step - loss: 0.4572 - accuracy: 0.8552 - val_loss: 0.4461 - val_accuracy: 0.8538 - lr: 0.0010\n",
      "Epoch 10/100\n",
      "135/135 [==============================] - 1s 5ms/step - loss: 0.4426 - accuracy: 0.8563 - val_loss: 0.4149 - val_accuracy: 0.8659 - lr: 0.0010\n",
      "Epoch 11/100\n",
      "135/135 [==============================] - 1s 5ms/step - loss: 0.4247 - accuracy: 0.8556 - val_loss: 0.4128 - val_accuracy: 0.8678 - lr: 0.0010\n",
      "Epoch 12/100\n",
      "135/135 [==============================] - 1s 5ms/step - loss: 0.4187 - accuracy: 0.8515 - val_loss: 0.4052 - val_accuracy: 0.8585 - lr: 0.0010\n",
      "Epoch 13/100\n",
      "135/135 [==============================] - 1s 4ms/step - loss: 0.4079 - accuracy: 0.8549 - val_loss: 0.3874 - val_accuracy: 0.8687 - lr: 0.0010\n",
      "Epoch 14/100\n",
      "135/135 [==============================] - 1s 9ms/step - loss: 0.3940 - accuracy: 0.8584 - val_loss: 0.3955 - val_accuracy: 0.8575 - lr: 0.0010\n",
      "Epoch 15/100\n",
      "135/135 [==============================] - 1s 8ms/step - loss: 0.3977 - accuracy: 0.8570 - val_loss: 0.3897 - val_accuracy: 0.8557 - lr: 0.0010\n",
      "Epoch 16/100\n",
      "135/135 [==============================] - 1s 11ms/step - loss: 0.3952 - accuracy: 0.8556 - val_loss: 0.3798 - val_accuracy: 0.8594 - lr: 0.0010\n",
      "Epoch 17/100\n",
      "135/135 [==============================] - 1s 5ms/step - loss: 0.3904 - accuracy: 0.8549 - val_loss: 0.3660 - val_accuracy: 0.8575 - lr: 0.0010\n",
      "Epoch 18/100\n",
      "135/135 [==============================] - 1s 4ms/step - loss: 0.3814 - accuracy: 0.8547 - val_loss: 0.3805 - val_accuracy: 0.8482 - lr: 0.0010\n",
      "Epoch 19/100\n",
      "135/135 [==============================] - 1s 8ms/step - loss: 0.3809 - accuracy: 0.8508 - val_loss: 0.3896 - val_accuracy: 0.8380 - lr: 0.0010\n",
      "Epoch 20/100\n",
      "135/135 [==============================] - 1s 9ms/step - loss: 0.3755 - accuracy: 0.8615 - val_loss: 0.3792 - val_accuracy: 0.8594 - lr: 0.0010\n",
      "Epoch 21/100\n",
      "135/135 [==============================] - 1s 4ms/step - loss: 0.3746 - accuracy: 0.8577 - val_loss: 0.3703 - val_accuracy: 0.8613 - lr: 0.0010\n",
      "Epoch 22/100\n",
      "135/135 [==============================] - 1s 5ms/step - loss: 0.3676 - accuracy: 0.8568 - val_loss: 0.3583 - val_accuracy: 0.8603 - lr: 5.0000e-04\n",
      "Epoch 23/100\n",
      "135/135 [==============================] - 2s 12ms/step - loss: 0.3593 - accuracy: 0.8566 - val_loss: 0.3579 - val_accuracy: 0.8547 - lr: 5.0000e-04\n",
      "Epoch 24/100\n",
      "135/135 [==============================] - 2s 12ms/step - loss: 0.3606 - accuracy: 0.8629 - val_loss: 0.3625 - val_accuracy: 0.8575 - lr: 5.0000e-04\n",
      "Epoch 25/100\n",
      "135/135 [==============================] - 2s 12ms/step - loss: 0.3599 - accuracy: 0.8612 - val_loss: 0.3721 - val_accuracy: 0.8454 - lr: 5.0000e-04\n",
      "Epoch 26/100\n",
      "135/135 [==============================] - 2s 12ms/step - loss: 0.3557 - accuracy: 0.8624 - val_loss: 0.3596 - val_accuracy: 0.8520 - lr: 5.0000e-04\n",
      "Epoch 27/100\n",
      "135/135 [==============================] - 2s 12ms/step - loss: 0.3579 - accuracy: 0.8589 - val_loss: 0.3619 - val_accuracy: 0.8631 - lr: 5.0000e-04\n",
      "Epoch 28/100\n",
      "135/135 [==============================] - 2s 13ms/step - loss: 0.3450 - accuracy: 0.8640 - val_loss: 0.3519 - val_accuracy: 0.8669 - lr: 2.5000e-04\n",
      "Epoch 29/100\n",
      "135/135 [==============================] - 2s 11ms/step - loss: 0.3396 - accuracy: 0.8705 - val_loss: 0.3610 - val_accuracy: 0.8557 - lr: 2.5000e-04\n",
      "Epoch 30/100\n",
      "135/135 [==============================] - 1s 10ms/step - loss: 0.3415 - accuracy: 0.8654 - val_loss: 0.3573 - val_accuracy: 0.8538 - lr: 2.5000e-04\n",
      "Epoch 31/100\n",
      "135/135 [==============================] - 1s 4ms/step - loss: 0.3359 - accuracy: 0.8678 - val_loss: 0.3544 - val_accuracy: 0.8622 - lr: 2.5000e-04\n",
      "Epoch 32/100\n",
      "135/135 [==============================] - 1s 4ms/step - loss: 0.3347 - accuracy: 0.8687 - val_loss: 0.3590 - val_accuracy: 0.8594 - lr: 2.5000e-04\n",
      "Epoch 33/100\n",
      "135/135 [==============================] - 1s 4ms/step - loss: 0.3246 - accuracy: 0.8750 - val_loss: 0.3562 - val_accuracy: 0.8566 - lr: 1.2500e-04\n",
      "Epoch 34/100\n",
      "135/135 [==============================] - 1s 4ms/step - loss: 0.3229 - accuracy: 0.8766 - val_loss: 0.3553 - val_accuracy: 0.8603 - lr: 1.2500e-04\n",
      "Epoch 35/100\n",
      "135/135 [==============================] - 1s 4ms/step - loss: 0.3233 - accuracy: 0.8738 - val_loss: 0.3581 - val_accuracy: 0.8575 - lr: 1.2500e-04\n",
      "Epoch 36/100\n",
      "135/135 [==============================] - 1s 4ms/step - loss: 0.3203 - accuracy: 0.8785 - val_loss: 0.3645 - val_accuracy: 0.8529 - lr: 1.2500e-04\n",
      "Epoch 37/100\n",
      "135/135 [==============================] - 1s 4ms/step - loss: 0.3146 - accuracy: 0.8824 - val_loss: 0.3622 - val_accuracy: 0.8547 - lr: 6.2500e-05\n",
      "Epoch 38/100\n",
      "135/135 [==============================] - 1s 4ms/step - loss: 0.3091 - accuracy: 0.8806 - val_loss: 0.3629 - val_accuracy: 0.8566 - lr: 6.2500e-05\n",
      "Epoch 39/100\n",
      "135/135 [==============================] - 1s 4ms/step - loss: 0.3061 - accuracy: 0.8829 - val_loss: 0.3615 - val_accuracy: 0.8529 - lr: 6.2500e-05\n",
      "Epoch 40/100\n",
      "135/135 [==============================] - 1s 4ms/step - loss: 0.3091 - accuracy: 0.8834 - val_loss: 0.3671 - val_accuracy: 0.8501 - lr: 6.2500e-05\n",
      "Epoch 41/100\n",
      "135/135 [==============================] - 1s 4ms/step - loss: 0.3002 - accuracy: 0.8871 - val_loss: 0.3673 - val_accuracy: 0.8557 - lr: 3.1250e-05\n",
      "Epoch 42/100\n",
      "135/135 [==============================] - 1s 4ms/step - loss: 0.3011 - accuracy: 0.8824 - val_loss: 0.3656 - val_accuracy: 0.8538 - lr: 3.1250e-05\n",
      "Epoch 43/100\n",
      "135/135 [==============================] - 1s 5ms/step - loss: 0.2963 - accuracy: 0.8894 - val_loss: 0.3657 - val_accuracy: 0.8585 - lr: 3.1250e-05\n"
     ]
    }
   ],
   "source": [
    "# Train\n",
    "history = model.fit(X_train_scaled, y_train_encoded, validation_data=(X_test_scaled, y_test_encoded),\n",
    "                    epochs=100, batch_size=32, callbacks=[early_stopping, lr_scheduler])"
   ]
  },
  {
   "cell_type": "code",
   "execution_count": 11,
   "metadata": {},
   "outputs": [
    {
     "name": "stdout",
     "output_type": "stream",
     "text": [
      "34/34 [==============================] - 0s 2ms/step - loss: 0.3519 - accuracy: 0.8669\n",
      "Test Accuracy: 0.866852879524231\n"
     ]
    }
   ],
   "source": [
    "loss, accuracy = model.evaluate(X_test_scaled, y_test_encoded)\n",
    "print(f'Test Accuracy: {accuracy}')"
   ]
  },
  {
   "cell_type": "code",
   "execution_count": 12,
   "metadata": {},
   "outputs": [
    {
     "name": "stdout",
     "output_type": "stream",
     "text": [
      "34/34 [==============================] - 0s 2ms/step\n"
     ]
    }
   ],
   "source": [
    "y_pred = model.predict(X_test_scaled)\n",
    "\n",
    "y_pred_labels = np.argmax(y_pred, axis=1)\n",
    "y_test_labels = np.argmax(y_test_encoded, axis=1)\n"
   ]
  },
  {
   "cell_type": "code",
   "execution_count": 13,
   "metadata": {},
   "outputs": [
    {
     "name": "stdout",
     "output_type": "stream",
     "text": [
      "              precision    recall  f1-score   support\n",
      "\n",
      "           0       0.89      0.95      0.92       844\n",
      "           1       0.76      0.55      0.64       230\n",
      "\n",
      "    accuracy                           0.87      1074\n",
      "   macro avg       0.82      0.75      0.78      1074\n",
      "weighted avg       0.86      0.87      0.86      1074\n",
      "\n"
     ]
    }
   ],
   "source": [
    "print(classification_report(y_test_labels, y_pred_labels))"
   ]
  },
  {
   "cell_type": "code",
   "execution_count": 14,
   "metadata": {},
   "outputs": [
    {
     "data": {
      "image/png": "[encoded data removed]",
      "text/plain": [
       "<Figure size 640x480 with 2 Axes>"
      ]
     },
     "metadata": {},
     "output_type": "display_data"
    }
   ],
   "source": [
    "ConfusionMatrixDisplay.from_predictions(y_test_labels, y_pred_labels)\n",
    "plt.title('Confusion Matrix')\n",
    "plt.show()\n"
   ]
  },
  {
   "cell_type": "code",
   "execution_count": 15,
   "metadata": {},
   "outputs": [
    {
     "data": {
      "image/png": "[encoded data removed]",
      "text/plain": [
       "<Figure size 640x480 with 1 Axes>"
      ]
     },
     "metadata": {},
     "output_type": "display_data"
    }
   ],
   "source": [
    "plt.plot(history.history['accuracy'], label='Train accuracy')\n",
    "plt.plot(history.history['val_accuracy'], label='Validation accuracy')\n",
    "plt.title('Model accuracy')\n",
    "plt.xlabel('Epochs')\n",
    "plt.ylabel('Accuracy')\n",
    "plt.legend()\n",
    "plt.grid()\n",
    "plt.show()\n"
   ]
  }
 ],
 "metadata": {
  "kernelspec": {
   "display_name": "Python 3",
   "language": "python",
   "name": "python3"
  },
  "language_info": {
   "codemirror_mode": {
    "name": "ipython",
    "version": 3
   },
   "file_extension": ".py",
   "mimetype": "text/x-python",
   "name": "python",
   "nbconvert_exporter": "python",
   "pygments_lexer": "ipython3",
   "version": "3.11.2"
  }
 },
 "nbformat": 4,
 "nbformat_minor": 2
}
